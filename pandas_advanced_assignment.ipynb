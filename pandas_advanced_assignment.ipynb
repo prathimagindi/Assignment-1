{
 "cells": [
  {
   "cell_type": "markdown",
   "metadata": {},
   "source": [
    "__Exercise 1: Write a function to sort the list based on the first letter of the second element__\n",
    "lst=[(19542209, \"New York\") ,(4887871, \"Alabama\"), (1420491, \"Hawaii\"), (626299, \"Vermont\"), (1805832, \"West Virginia\"), (39865590, \"California\")]"
   ]
  },
  {
   "cell_type": "code",
   "execution_count": 41,
   "metadata": {},
   "outputs": [],
   "source": [
    "lst=[(19542209, \"New York\") ,(4887871, \"Alabama\"), (1420491, \"Hawaii\"), (626299, \"Vermont\"), (1805832, \"West Virginia\"), (39865590, \"California\")]\n"
   ]
  },
  {
   "cell_type": "markdown",
   "metadata": {},
   "source": [
    "def sort_(lst):\n",
    "    print(\"original list:\",lst)\n",
    "    sorted_list=sorted(lst,key=lambda x:x[1][0])\n",
    "    print(\"sorted_list:\",sorted_list)\n",
    "sort_(lst)\n",
    "    \n",
    "    \n",
    "    \n"
   ]
  },
  {
   "cell_type": "markdown",
   "metadata": {},
   "source": [
    "__Exercise 2: Write a function to sort the list based on the last letter of the second element__"
   ]
  },
  {
   "cell_type": "code",
   "execution_count": 40,
   "metadata": {},
   "outputs": [],
   "source": [
    "lst=[(19542209, \"New York\") ,(4887871, \"Alabama\"), (1420491, \"Hawaii\"), (626299, \"Vermont\"), (1805832, \"West Virginia\"), (39865590, \"California\")]\n"
   ]
  },
  {
   "cell_type": "code",
   "execution_count": 39,
   "metadata": {},
   "outputs": [
    {
     "name": "stdout",
     "output_type": "stream",
     "text": [
      "original list: [(19542209, 'New York'), (4887871, 'Alabama'), (1420491, 'Hawaii'), (626299, 'Vermont'), (1805832, 'West Virginia'), (39865590, 'California')]\n",
      "sorted_list: [(4887871, 'Alabama'), (1805832, 'West Virginia'), (39865590, 'California'), (1420491, 'Hawaii'), (19542209, 'New York'), (626299, 'Vermont')]\n"
     ]
    }
   ],
   "source": [
    "def sort_(lst):\n",
    "    print(\"original list:\",lst)\n",
    "    sorted_list=sorted(lst,key=lambda x:x[1][-1])\n",
    "    print(\"sorted_list:\",sorted_list)\n",
    "sort_(lst)"
   ]
  },
  {
   "cell_type": "markdown",
   "metadata": {},
   "source": [
    "__Exercise 3: Create a range from 1 to 8 merge the given list and together to create a new list of tuples.__"
   ]
  },
  {
   "cell_type": "code",
   "execution_count": 50,
   "metadata": {},
   "outputs": [
    {
     "name": "stdout",
     "output_type": "stream",
     "text": [
      "['Energy', 'Agriculture', 'Industry', 'Technology', 'Finance', 'Forestry', 'Transport'] [1, 2, 3, 4, 5, 6, 7]\n",
      "[('Energy', 1), ('Agriculture', 2), ('Industry', 3), ('Technology', 4), ('Finance', 5), ('Forestry', 6), ('Transport', 7)]\n"
     ]
    }
   ],
   "source": [
    "#1st method\n",
    "lst1=[\"Energy\", \"Agriculture\", \"Industry\", \"Technology\", \"Finance\", \"Forestry\", \"Transport\"]\n",
    "lst2=list(range(1,len(lst1)+1))\n",
    "print(lst1,lst2)\n",
    "print(list(zip(lst1,lst2)))"
   ]
  },
  {
   "cell_type": "markdown",
   "metadata": {},
   "source": [
    "#2nd method\n",
    "new_list=map(lambda x,y:(x,y),lst1,lst2)\n",
    "print(list(new_list))"
   ]
  },
  {
   "cell_type": "markdown",
   "metadata": {},
   "source": [
    "__Exercise 4: Write a function and create a list consisted of the number of occurence of letter: a (all a's).__\n",
    "                                                                                                  "
   ]
  },
  {
   "cell_type": "code",
   "execution_count": 188,
   "metadata": {},
   "outputs": [
    {
     "name": "stdout",
     "output_type": "stream",
     "text": [
      "[3, 2, 3, 3, 3, 3, 3]\n"
     ]
    }
   ],
   "source": [
    "lst1=[\"Antartica\", \"America\", \"Armania\", \"Australia\", \"Albania\", \"Afganistan\",\"Alaska\"]\n",
    "def occurance(lst):\n",
    "    \n",
    "    new_lst=[]\n",
    "    for i in range(len(lst)):\n",
    "        count=0\n",
    "        for word in lst[i]:\n",
    "            word=word.lower()\n",
    "            for char in word:\n",
    "               if char =='a':\n",
    "                 count+=1\n",
    "        new_lst.append(count)\n",
    "    print(new_lst)\n",
    "    \n",
    "   \n",
    "    \n",
    "    \n",
    "#         for char in word:\n",
    "            \n",
    "#         for word in words:\n",
    "#             print(word)\n",
    "        \n",
    "#         for char in word:\n",
    "#             print(char)\n",
    "#         word=word.lower()\n",
    "#         print(word)\n",
    "#         for char in word:\n",
    "#             if char=='a':\n",
    "#                 count+=1\n",
    "#         return count\n",
    "        \n",
    "                \n",
    "            \n",
    "occurance(lst1)\n"
   ]
  },
  {
   "cell_type": "markdown",
   "metadata": {},
   "source": [
    "__Exercise 5: Write a function filter all the vowels in a given string using filter.__"
   ]
  },
  {
   "cell_type": "markdown",
   "metadata": {},
   "source": [
    "str1=\"Inceptz is one of the best institutes to read data science in chennai\"\n",
    "vowels='aeiouAEIOU'\n",
    "print(list(filter(lambda x: x in vowels,str1)))\n"
   ]
  },
  {
   "cell_type": "markdown",
   "metadata": {},
   "source": [
    "__Exercise 6: Write a function to create a list as the square of elements from the given list if the square is greater than 60__"
   ]
  },
  {
   "cell_type": "code",
   "execution_count": 206,
   "metadata": {},
   "outputs": [
    {
     "name": "stdout",
     "output_type": "stream",
     "text": [
      "[64, 81, 100, 144, 196]\n"
     ]
    }
   ],
   "source": [
    "lst1=[5, 6, 7 , 8, 9, 10, 12, 14]\n",
    "def square(list):\n",
    "    new_list=[]\n",
    "    for i in lst1:\n",
    "        number=i**2\n",
    "        if number>60:\n",
    "            new_list.append(number)\n",
    "    print(new_list)\n",
    "    \n",
    "square(lst1)"
   ]
  },
  {
   "cell_type": "markdown",
   "metadata": {},
   "source": [
    "__Exercise 7: take the words given below as list and write a function and use reduce to make it a sentence__\n"
   ]
  },
  {
   "cell_type": "code",
   "execution_count": 221,
   "metadata": {},
   "outputs": [
    {
     "data": {
      "text/plain": [
       "'Inceptz provides the best inclass trainings and is the best'"
      ]
     },
     "execution_count": 221,
     "metadata": {},
     "output_type": "execute_result"
    }
   ],
   "source": [
    "lst=['Inceptz','provides','the','best','inclass','trainings','and','is','the','best']\n",
    "from functools import reduce\n",
    "reduce(lambda x,y:x+' '+y,lst)\n",
    "\n"
   ]
  },
  {
   "cell_type": "code",
   "execution_count": null,
   "metadata": {},
   "outputs": [],
   "source": []
  },
  {
   "cell_type": "code",
   "execution_count": null,
   "metadata": {},
   "outputs": [],
   "source": []
  }
 ],
 "metadata": {
  "kernelspec": {
   "display_name": "Python 3",
   "language": "python",
   "name": "python3"
  },
  "language_info": {
   "codemirror_mode": {
    "name": "ipython",
    "version": 3
   },
   "file_extension": ".py",
   "mimetype": "text/x-python",
   "name": "python",
   "nbconvert_exporter": "python",
   "pygments_lexer": "ipython3",
   "version": "3.8.5"
  }
 },
 "nbformat": 4,
 "nbformat_minor": 4
}

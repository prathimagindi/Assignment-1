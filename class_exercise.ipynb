{
 "cells": [
  {
   "cell_type": "code",
   "execution_count": 1,
   "metadata": {},
   "outputs": [
    {
     "name": "stdout",
     "output_type": "stream",
     "text": [
      "number of odd numbers: 3\n",
      "number of even numbers: 4\n"
     ]
    }
   ],
   "source": [
    "#Write a Python program to count the number of even and odd numbers from a series of numbers.\n",
    "l=[2,4,6,7,10,11,13]\n",
    "def count_number(list):\n",
    "    cnt_even=0\n",
    "    cnt_odd=0\n",
    "    for i in l:\n",
    "        if i%2==0:\n",
    "            cnt_even+=1\n",
    "        else:\n",
    "            cnt_odd+=1\n",
    "    print(\"number of odd numbers:\",cnt_odd)\n",
    "    print(\"number of even numbers:\",cnt_even)\n",
    "        \n",
    "count_number(l)"
   ]
  },
  {
   "cell_type": "code",
   "execution_count": 3,
   "metadata": {},
   "outputs": [
    {
     "name": "stdout",
     "output_type": "stream",
     "text": [
      "200,202,204,206,208,220,222,224,226,228,240,242,244,246,248,260,262,264,266,268,280,282,284,286,288,400\n"
     ]
    }
   ],
   "source": [
    "#Write a Python program to find numbers between 100 and 400 (both included) where each digit of a number is an even number. The numbers obtained should be printed in a comma-separated sequence.\n",
    "def find_even(start,stop):\n",
    "    even_numbers=[]\n",
    "    for i in range(start,stop+1):\n",
    "        s=str(i)\n",
    "        if (int(s[0])%2==0) and (int(s[1])%2==0) and (int(s[2])%2==0):\n",
    "            even_numbers.append(s)\n",
    "    \n",
    "    print(\",\".join(even_numbers))\n",
    "find_even(100,400)"
   ]
  },
  {
   "cell_type": "code",
   "execution_count": 4,
   "metadata": {},
   "outputs": [
    {
     "name": "stdout",
     "output_type": "stream",
     "text": [
      "Enter dog's age20\n",
      "dog age in dog years is: 93\n"
     ]
    }
   ],
   "source": [
    "#Write a Python program to calculate a dog's age in dog's years.\n",
    "#Note: For the first two years, a dog year is equal to 10.5 human years. After that, each dog year equals 4 human years.\"\n",
    "h_age=int(input(\"Enter dog's age\"))\n",
    "if h_age<0:\n",
    "    print(\"please enter positive number\")\n",
    "    exit()\n",
    "elif h_age<=2:\n",
    "        dog_age=h_age*10.5\n",
    "else:\n",
    "        dog_age=21+(h_age-2)*4\n",
    "print(\"dog age in dog years is:\",dog_age)"
   ]
  },
  {
   "cell_type": "code",
   "execution_count": 5,
   "metadata": {},
   "outputs": [
    {
     "data": {
      "text/plain": [
       "6"
      ]
     },
     "execution_count": 5,
     "metadata": {},
     "output_type": "execute_result"
    }
   ],
   "source": [
    "#Write a Python function to find the Max of three numbers.\"\n",
    "def max_three(a,b,c):\n",
    "    if a>=b and a>=c:\n",
    "        largest=a\n",
    "    elif b>=a and b>=c:\n",
    "        largest=b\n",
    "    else:\n",
    "        largest=c\n",
    "    return largest\n",
    "max_three(3,6,-5)\n",
    "   "
   ]
  },
  {
   "cell_type": "code",
   "execution_count": 29,
   "metadata": {},
   "outputs": [
    {
     "name": "stdout",
     "output_type": "stream",
     "text": [
      "its not a prime number\n"
     ]
    }
   ],
   "source": [
    "#Write a Python function that takes a number as a parameter and check the number is prime or not.\n",
    "def prime_number(n):\n",
    "    if (n==1):\n",
    "        return False\n",
    "    elif (n==2):\n",
    "        return True\n",
    "    else:\n",
    "        if n>1:\n",
    "            for i in range(2,n//2):\n",
    "                if n%i==0:\n",
    "                    print(\"its not a prime number\")\n",
    "                    break\n",
    "            else:\n",
    "                print(\"its  a prime number\")\n",
    "        else:\n",
    "            print(\"its not a prime number\")\n",
    "                \n",
    "prime_number(9)                  "
   ]
  },
  {
   "cell_type": "code",
   "execution_count": 28,
   "metadata": {},
   "outputs": [
    {
     "name": "stdout",
     "output_type": "stream",
     "text": [
      "* \n",
      "* * \n",
      "* * * \n",
      "* * * * \n",
      "* * * * * \n",
      "* * * * * * \n",
      "* * * * * \n",
      "* * * * \n",
      "* * * \n",
      "* * \n",
      "* \n",
      "\n"
     ]
    }
   ],
   "source": [
    "#Write a Python program to construct the following pattern, using a nested for loop.\n",
    "n=5\n",
    "for i in range(0,n+1):\n",
    "    for j in range(i+1):\n",
    "        print(\"*\",end=\" \")\n",
    "    print(\"\")\n",
    "for i in range(n,-1,-1):\n",
    "    for j in range(i):\n",
    "        print(\"*\",end=\" \")\n",
    "    print(\"\")"
   ]
  },
  {
   "cell_type": "code",
   "execution_count": 35,
   "metadata": {},
   "outputs": [
    {
     "name": "stdout",
     "output_type": "stream",
     "text": [
      "upper case letters=13,lower case letters=32\n"
     ]
    }
   ],
   "source": [
    "#Write a Python function that accepts a string and calculate the number of upper case letters and lower case letters. Go to the editor\\n\"\n",
    "def upper_lower(string):\n",
    "        upper=0\n",
    "        lower=0\n",
    "        for i in range(len(string)):\n",
    "            if ord(string[i])>=97 and ord(string[i])<=122:\n",
    "                lower+=1\n",
    "            else:\n",
    "                if ord(string[i])>=65 and ord(string[i])<=90:\n",
    "                    upper+=1\n",
    "        print(\"upper case letters={},lower case letters={}\".format(upper,lower))\n",
    "        \n",
    "upper_lower(\"Inceptz is One of The BeSt Places TO LEarn DataSciEnce\")"
   ]
  },
  {
   "cell_type": "code",
   "execution_count": 44,
   "metadata": {},
   "outputs": [
    {
     "name": "stdout",
     "output_type": "stream",
     "text": [
      "[1505, 1540, 1575, 1610, 1645, 1680, 1715, 1750, 1785, 1820, 1855, 1890, 1925, 1960, 1995, 2030, 2065, 2100, 2135, 2170, 2205, 2240, 2275, 2310, 2345, 2380, 2415, 2450, 2485, 2520, 2555, 2590, 2625, 2660, 2695]\n"
     ]
    }
   ],
   "source": [
    "# Write a Python program to find those numbers which are divisible by 7 and multiple of 5, between 1500 and 2700 (both included).\n",
    "def divisible(a,b):\n",
    "    numbers=[]\n",
    "    for i in range(a,b+1):\n",
    "        if i%7==0 and i%5==0:\n",
    "            numbers.append(i)\n",
    "    print(numbers)\n",
    "divisible(1500,2700)"
   ]
  },
  {
   "cell_type": "code",
   "execution_count": 57,
   "metadata": {},
   "outputs": [
    {
     "name": "stdout",
     "output_type": "stream",
     "text": [
      "the original string is:1234abcd\n",
      "1\n",
      "21\n",
      "321\n",
      "4321\n",
      "a4321\n",
      "ba4321\n",
      "cba4321\n",
      "dcba4321\n",
      "the reversed string is:dcba4321\n"
     ]
    }
   ],
   "source": [
    "def reverse(s):\n",
    "    print(\"the original string is:{}\".format(s))\n",
    "    str=\"\"\n",
    "    for i in s:\n",
    "            str=i+str\n",
    "            print(str)\n",
    "    print(\"the reversed string is:{}\".format(str))\n",
    "reverse(\"1234abcd\")\n",
    "\n"
   ]
  },
  {
   "cell_type": "code",
   "execution_count": 62,
   "metadata": {},
   "outputs": [
    {
     "name": "stdout",
     "output_type": "stream",
     "text": [
      "enter a number12\n",
      "enter another number14\n",
      "the GCD of two numbers is:2.0\n"
     ]
    }
   ],
   "source": [
    "#Write a Python program to find  the greatest common divisor (gcd) of two integers\n",
    "m=float(input(\"enter a number\"))\n",
    "n=float(input(\"enter another number\"))\n",
    "def gcd(m,n):\n",
    "    if m<n:\n",
    "        m,n=n,m\n",
    "    while (m%n!=0):\n",
    "        m,n=n,m%n\n",
    "    print(\"the GCD of two numbers is:{}\".format(n))\n",
    "gcd(m,n)\n",
    "        \n",
    "    "
   ]
  },
  {
   "cell_type": "code",
   "execution_count": 112,
   "metadata": {},
   "outputs": [
    {
     "name": "stdout",
     "output_type": "stream",
     "text": [
      "enter a string:naman\n",
      "given string is palindrome\n"
     ]
    }
   ],
   "source": [
    "#Write a function to find if a string is a palindrome or not! \n",
    "    \n",
    "def is_palindrome(s):\n",
    "    s=s.lower()\n",
    "    str=\"\"\n",
    "    if len(s)<2:\n",
    "        True\n",
    "    for i in s:\n",
    "        str=i+str\n",
    "    if str==s:\n",
    "        return True\n",
    "    else:\n",
    "        return False\n",
    "a=input(\"enter a string:\")\n",
    "if (is_palindrome(a)==True):\n",
    "    print(\"given string is palindrome\")\n",
    "else:\n",
    "    print(\"given string is not palindrome\")\n",
    "\n",
    "\n",
    "        "
   ]
  },
  {
   "cell_type": "code",
   "execution_count": 110,
   "metadata": {},
   "outputs": [
    {
     "name": "stdout",
     "output_type": "stream",
     "text": [
      "Enter string:inceptez\n",
      "String is n't a palindrome!\n"
     ]
    }
   ],
   "source": [
    "#Write a recurssive function to find if a string is a palindrome or not! \n",
    "def is_palindrome(s):\n",
    "    s=s.lower()\n",
    "    if len(s) < 1:\n",
    "        return True\n",
    "    else:\n",
    "        if s[0] == s[-1]:\n",
    "            return is_palindrome(s[1:-1])\n",
    "        else:\n",
    "            return False\n",
    "\n",
    "a=input(\"Enter string:\")\n",
    "if(is_palindrome(a)==True):\n",
    "    print(\"String is a palindrome!\")\n",
    "else:\n",
    "    print(\"String is n't a palindrome!\")"
   ]
  },
  {
   "cell_type": "code",
   "execution_count": null,
   "metadata": {},
   "outputs": [],
   "source": []
  },
  {
   "cell_type": "code",
   "execution_count": null,
   "metadata": {},
   "outputs": [],
   "source": []
  },
  {
   "cell_type": "code",
   "execution_count": null,
   "metadata": {},
   "outputs": [],
   "source": []
  }
 ],
 "metadata": {
  "kernelspec": {
   "display_name": "Python 3",
   "language": "python",
   "name": "python3"
  },
  "language_info": {
   "codemirror_mode": {
    "name": "ipython",
    "version": 3
   },
   "file_extension": ".py",
   "mimetype": "text/x-python",
   "name": "python",
   "nbconvert_exporter": "python",
   "pygments_lexer": "ipython3",
   "version": "3.8.5"
  }
 },
 "nbformat": 4,
 "nbformat_minor": 4
}
